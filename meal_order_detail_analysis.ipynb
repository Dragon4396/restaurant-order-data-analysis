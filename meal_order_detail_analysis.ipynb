{
 "cells": [
  {
   "cell_type": "code",
   "execution_count": 1,
   "id": "67501d05-9ed8-4129-83d2-33f33de1e26c",
   "metadata": {},
   "outputs": [],
   "source": [
    "import numpy as np\n",
    "import pandas as pd\n",
    "import matplotlib.pyplot as plt"
   ]
  },
  {
   "cell_type": "code",
   "execution_count": 2,
   "id": "0e301402-7fb4-402f-a7df-d15435497a34",
   "metadata": {},
   "outputs": [],
   "source": [
    "data = pd.read_csv('meal_order_detail.csv')\n",
    "\n",
    "current_date = '2020-10-1' # Edit this date as needed\n",
    "current_date_dt = pd.to_datetime(current_date)\n",
    "data['Checkout Time'] = pd.to_datetime(data['Checkout Time'], format='%H:%M:%S')\n",
    "data['Checkout Time'] = current_date_dt + pd.to_timedelta(data['Checkout Time'].dt.hour, unit='h') + \\\n",
    "                        pd.to_timedelta(data['Checkout Time'].dt.minute, unit='m') + \\\n",
    "                        pd.to_timedelta(data['Checkout Time'].dt.second, unit='s')\n",
    "data.dropna(axis=1, inplace=True) # Drop columns containing NA values from the data DataFrame and modify the original data in place"
   ]
  },
  {
   "cell_type": "code",
   "execution_count": 3,
   "id": "84e5b4fa-6c10-49cf-befc-05b669f2359b",
   "metadata": {},
   "outputs": [
    {
     "data": {
      "text/html": [
       "<div>\n",
       "<style scoped>\n",
       "    .dataframe tbody tr th:only-of-type {\n",
       "        vertical-align: middle;\n",
       "    }\n",
       "\n",
       "    .dataframe tbody tr th {\n",
       "        vertical-align: top;\n",
       "    }\n",
       "\n",
       "    .dataframe thead th {\n",
       "        text-align: right;\n",
       "    }\n",
       "</style>\n",
       "<table border=\"1\" class=\"dataframe\">\n",
       "  <thead>\n",
       "    <tr style=\"text-align: right;\">\n",
       "      <th></th>\n",
       "      <th>Order ID</th>\n",
       "      <th>Checkout Time</th>\n",
       "      <th>Dishes ID</th>\n",
       "      <th>Dishes Name</th>\n",
       "      <th>Counts</th>\n",
       "      <th>Unit Price</th>\n",
       "    </tr>\n",
       "  </thead>\n",
       "  <tbody>\n",
       "    <tr>\n",
       "      <th>0</th>\n",
       "      <td>1</td>\n",
       "      <td>2020-10-01 10:36:21</td>\n",
       "      <td>14</td>\n",
       "      <td>Chow Mein</td>\n",
       "      <td>1</td>\n",
       "      <td>11.0</td>\n",
       "    </tr>\n",
       "    <tr>\n",
       "      <th>1</th>\n",
       "      <td>1</td>\n",
       "      <td>2020-10-01 10:36:21</td>\n",
       "      <td>7</td>\n",
       "      <td>Beef with Broccoli</td>\n",
       "      <td>2</td>\n",
       "      <td>17.0</td>\n",
       "    </tr>\n",
       "    <tr>\n",
       "      <th>2</th>\n",
       "      <td>1</td>\n",
       "      <td>2020-10-01 10:36:21</td>\n",
       "      <td>11</td>\n",
       "      <td>Mapo Tofu</td>\n",
       "      <td>2</td>\n",
       "      <td>10.0</td>\n",
       "    </tr>\n",
       "    <tr>\n",
       "      <th>3</th>\n",
       "      <td>1</td>\n",
       "      <td>2020-10-01 10:36:21</td>\n",
       "      <td>12</td>\n",
       "      <td>Mushroom Soup</td>\n",
       "      <td>1</td>\n",
       "      <td>6.5</td>\n",
       "    </tr>\n",
       "    <tr>\n",
       "      <th>4</th>\n",
       "      <td>1</td>\n",
       "      <td>2020-10-01 10:36:21</td>\n",
       "      <td>15</td>\n",
       "      <td>Rice</td>\n",
       "      <td>4</td>\n",
       "      <td>2.5</td>\n",
       "    </tr>\n",
       "    <tr>\n",
       "      <th>...</th>\n",
       "      <td>...</td>\n",
       "      <td>...</td>\n",
       "      <td>...</td>\n",
       "      <td>...</td>\n",
       "      <td>...</td>\n",
       "      <td>...</td>\n",
       "    </tr>\n",
       "    <tr>\n",
       "      <th>74</th>\n",
       "      <td>12</td>\n",
       "      <td>2020-10-01 21:55:42</td>\n",
       "      <td>3</td>\n",
       "      <td>Szechwan Chilli Chicken</td>\n",
       "      <td>5</td>\n",
       "      <td>16.0</td>\n",
       "    </tr>\n",
       "    <tr>\n",
       "      <th>75</th>\n",
       "      <td>12</td>\n",
       "      <td>2020-10-01 21:55:42</td>\n",
       "      <td>4</td>\n",
       "      <td>Sweet and Sour Pork</td>\n",
       "      <td>1</td>\n",
       "      <td>12.5</td>\n",
       "    </tr>\n",
       "    <tr>\n",
       "      <th>76</th>\n",
       "      <td>12</td>\n",
       "      <td>2020-10-01 21:55:42</td>\n",
       "      <td>14</td>\n",
       "      <td>Chow Mein</td>\n",
       "      <td>6</td>\n",
       "      <td>11.0</td>\n",
       "    </tr>\n",
       "    <tr>\n",
       "      <th>77</th>\n",
       "      <td>12</td>\n",
       "      <td>2020-10-01 21:55:42</td>\n",
       "      <td>9</td>\n",
       "      <td>Salt and Pepper Shrimp</td>\n",
       "      <td>1</td>\n",
       "      <td>20.0</td>\n",
       "    </tr>\n",
       "    <tr>\n",
       "      <th>78</th>\n",
       "      <td>12</td>\n",
       "      <td>2020-10-01 21:55:42</td>\n",
       "      <td>8</td>\n",
       "      <td>Peking Roast Duck</td>\n",
       "      <td>2</td>\n",
       "      <td>25.0</td>\n",
       "    </tr>\n",
       "  </tbody>\n",
       "</table>\n",
       "<p>79 rows × 6 columns</p>\n",
       "</div>"
      ],
      "text/plain": [
       "    Order ID       Checkout Time  Dishes ID              Dishes Name  Counts  \\\n",
       "0          1 2020-10-01 10:36:21         14                Chow Mein       1   \n",
       "1          1 2020-10-01 10:36:21          7       Beef with Broccoli       2   \n",
       "2          1 2020-10-01 10:36:21         11                Mapo Tofu       2   \n",
       "3          1 2020-10-01 10:36:21         12            Mushroom Soup       1   \n",
       "4          1 2020-10-01 10:36:21         15                     Rice       4   \n",
       "..       ...                 ...        ...                      ...     ...   \n",
       "74        12 2020-10-01 21:55:42          3  Szechwan Chilli Chicken       5   \n",
       "75        12 2020-10-01 21:55:42          4      Sweet and Sour Pork       1   \n",
       "76        12 2020-10-01 21:55:42         14                Chow Mein       6   \n",
       "77        12 2020-10-01 21:55:42          9   Salt and Pepper Shrimp       1   \n",
       "78        12 2020-10-01 21:55:42          8        Peking Roast Duck       2   \n",
       "\n",
       "    Unit Price  \n",
       "0         11.0  \n",
       "1         17.0  \n",
       "2         10.0  \n",
       "3          6.5  \n",
       "4          2.5  \n",
       "..         ...  \n",
       "74        16.0  \n",
       "75        12.5  \n",
       "76        11.0  \n",
       "77        20.0  \n",
       "78        25.0  \n",
       "\n",
       "[79 rows x 6 columns]"
      ]
     },
     "execution_count": 3,
     "metadata": {},
     "output_type": "execute_result"
    }
   ],
   "source": [
    "data"
   ]
  },
  {
   "cell_type": "code",
   "execution_count": 4,
   "id": "860f17f8-c0cc-41c7-ad58-c57831fa17e0",
   "metadata": {},
   "outputs": [
    {
     "data": {
      "text/plain": [
       "Order ID                  int64\n",
       "Checkout Time    datetime64[ns]\n",
       "Dishes ID                 int64\n",
       "Dishes Name              object\n",
       "Counts                    int64\n",
       "Unit Price              float64\n",
       "dtype: object"
      ]
     },
     "execution_count": 4,
     "metadata": {},
     "output_type": "execute_result"
    }
   ],
   "source": [
    "data.dtypes"
   ]
  },
  {
   "cell_type": "code",
   "execution_count": 5,
   "id": "13757062-976d-4d04-a4a0-7193c49ba2ca",
   "metadata": {},
   "outputs": [
    {
     "data": {
      "text/plain": [
       "13.39240506329114"
      ]
     },
     "execution_count": 5,
     "metadata": {},
     "output_type": "execute_result"
    }
   ],
   "source": [
    "# Calculate the average price of the dishes sold\n",
    "np.mean(data['Unit Price'])"
   ]
  },
  {
   "cell_type": "code",
   "execution_count": 6,
   "id": "946a972e-d57f-443b-9ae3-2dd99a819131",
   "metadata": {},
   "outputs": [
    {
     "data": {
      "text/plain": [
       "Dishes Name\n",
       "Rice                       9\n",
       "Chow Mein                  8\n",
       "Kung Pao Chicken           8\n",
       "Skillet Beef               6\n",
       "Peking Roast Duck          6\n",
       "Oil Braised King Prawns    6\n",
       "Mapo Tofu                  5\n",
       "Mushroom Soup              5\n",
       "Wonton Soup                5\n",
       "Sweet and Sour Pork        5\n",
       "Name: count, dtype: int64"
      ]
     },
     "execution_count": 6,
     "metadata": {},
     "output_type": "execute_result"
    }
   ],
   "source": [
    "# Frequency analysis: Which dishes are in the top 10 most popular\n",
    "dishes_count = data['Dishes Name'].value_counts()[:10]\n",
    "dishes_count"
   ]
  },
  {
   "cell_type": "code",
   "execution_count": 7,
   "id": "62a0cea2-a1e5-43cd-b325-52e265a27477",
   "metadata": {},
   "outputs": [
    {
     "data": {
      "text/plain": [
       "Text(0.5, 1.0, 'Top 10 Most Popular Dishes')"
      ]
     },
     "execution_count": 7,
     "metadata": {},
     "output_type": "execute_result"
    },
    {
     "data": {
      "image/png": "[encoded data removed]",
      "text/plain": [
       "<Figure size 640x480 with 1 Axes>"
      ]
     },
     "metadata": {},
     "output_type": "display_data"
    }
   ],
   "source": [
    "# Data Visualization\n",
    "dishes_count.plot(kind='bar')\n",
    "for x,y in enumerate(dishes_count):\n",
    "    plt.text(x, y, y, ha='center', color='blue')\n",
    "plt.xlabel('Dishes Name', color='red')\n",
    "plt.ylabel('Number of Orders', color='red')\n",
    "plt.title('Top 10 Most Popular Dishes', color='red')"
   ]
  },
  {
   "cell_type": "code",
   "execution_count": 8,
   "id": "15294932-28cd-441c-8eca-4aaf37f0191f",
   "metadata": {},
   "outputs": [
    {
     "name": "stdout",
     "output_type": "stream",
     "text": [
      "Order ID: 3, Category Count: 9\n"
     ]
    }
   ],
   "source": [
    "# Find the order with the greatest number of dish categories\n",
    "most_variety = data['Order ID'].value_counts()[:1]\n",
    "print(f\"Order ID: {most_variety.index[0]}, Category Count: {most_variety.iloc[0]}\")"
   ]
  },
  {
   "cell_type": "code",
   "execution_count": 32,
   "id": "48d56b44-85d9-4b9e-833c-4ea26ff91b69",
   "metadata": {},
   "outputs": [
    {
     "name": "stdout",
     "output_type": "stream",
     "text": [
      "          Total Price\n",
      "Order ID             \n",
      "7               264.0\n",
      "12              261.5\n",
      "2               261.0\n",
      "3               237.5\n",
      "6               190.0\n",
      "4               181.0\n",
      "8               157.0\n",
      "10              139.0\n",
      "1               137.0\n",
      "9               130.0\n",
      "11              127.5\n",
      "5               123.0\n"
     ]
    }
   ],
   "source": [
    "# Print the total price of each order in descending order\n",
    "data['Total Price'] = data['Counts']*data['Unit Price']\n",
    "dataGroup = data[['Order ID','Total Price']].groupby(by='Order ID').sum().sort_values(by='Total Price',ascending=False)\n",
    "print(dataGroup)"
   ]
  }
 ],
 "metadata": {
  "kernelspec": {
   "display_name": "Python 3 (ipykernel)",
   "language": "python",
   "name": "python3"
  },
  "language_info": {
   "codemirror_mode": {
    "name": "ipython",
    "version": 3
   },
   "file_extension": ".py",
   "mimetype": "text/x-python",
   "name": "python",
   "nbconvert_exporter": "python",
   "pygments_lexer": "ipython3",
   "version": "3.11.5"
  }
 },
 "nbformat": 4,
 "nbformat_minor": 5
}
